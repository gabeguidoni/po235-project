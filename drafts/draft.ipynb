{
 "cells": [
  {
   "cell_type": "code",
   "execution_count": null,
   "id": "9b48a2be",
   "metadata": {},
   "outputs": [],
   "source": [
    "from pdfminer.high_level import extract_text\n",
    "import re\n",
    "import unicodedata\n",
    "\n"
   ]
  },
  {
   "cell_type": "code",
   "execution_count": null,
   "id": "fb5b4092",
   "metadata": {},
   "outputs": [],
   "source": [
    "def p(texto: str) -> str:\n",
    "    \"\"\" Padroniza texto: deixa tudo minusculo, remove pontuacoes, remove acentuacao\"\"\"\n",
    "\n",
    "    texto = texto.lower().strip(\",.;\")\n",
    "    return ''.join(\n",
    "        c for c in unicodedata.normalize('NFD', texto)\n",
    "        if unicodedata.category(c) != 'Mn'\n",
    "    )\n"
   ]
  },
  {
   "cell_type": "code",
   "execution_count": null,
   "id": "9a7054c0",
   "metadata": {},
   "outputs": [],
   "source": [
    "\n",
    "# Relatorios Simplificado\n",
    "caminho = \"files/PR-KNM_16_08_2023_PUB.pdf\"\n",
    "# caminho = \"files/PT-UCK_03_02_2024-PUB..pdf\"\n",
    "\n",
    "# Relatorios Completo (Em desenvolvimento)\n",
    "# caminho = \"files/PR_TTO_24_07_2024_PUB.1.pdf\"\n",
    "\n",
    "texto = extract_text(caminho)\n",
    "\n",
    "len(texto)"
   ]
  },
  {
   "cell_type": "code",
   "execution_count": null,
   "id": "95aa68cb",
   "metadata": {},
   "outputs": [],
   "source": [
    "# print(texto)"
   ]
  },
  {
   "cell_type": "code",
   "execution_count": null,
   "id": "30537afb",
   "metadata": {},
   "outputs": [],
   "source": [
    "padrao = r\"3\\.2 Fatores Contribuintes(.*?)4\\. RECOMENDAÇÕES DE SEGURANÇA\"\n",
    "labels_raw = re.search(padrao, texto, re.S)\n",
    "\n",
    "if labels_raw:\n",
    "    print(labels_raw.group(1))\n",
    "    print(\"-----------\")\n",
    "\n",
    "    linhas = [l.strip(\" -;\\n\") for l in labels_raw.group(1).splitlines() if l.strip()]\n",
    "    dicionario = {}\n",
    "    for l in linhas:\n",
    "        partes = re.split(r\"\\s[–-]\\s\", l, maxsplit=1)  # aceita – ou -\n",
    "        if len(partes) == 2:\n",
    "            chave, valor_raw = partes\n",
    "            valor = p(valor_raw[:1])  # Decidir se 1, 2 ou 2, 1\n",
    "            dicionario[p(chave)] = valor\n",
    "\n",
    "    print(dicionario)\n",
    "else:\n",
    "    print(\"Trecho não encontrado\")"
   ]
  }
 ],
 "metadata": {
  "kernelspec": {
   "display_name": ".venv",
   "language": "python",
   "name": "python3"
  },
  "language_info": {
   "codemirror_mode": {
    "name": "ipython",
    "version": 3
   },
   "file_extension": ".py",
   "mimetype": "text/x-python",
   "name": "python",
   "nbconvert_exporter": "python",
   "pygments_lexer": "ipython3",
   "version": "3.11.8"
  }
 },
 "nbformat": 4,
 "nbformat_minor": 5
}
