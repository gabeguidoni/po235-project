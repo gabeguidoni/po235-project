{
 "cells": [
  {
   "cell_type": "code",
   "execution_count": null,
   "id": "62d7f431",
   "metadata": {},
   "outputs": [],
   "source": [
    "from pdfminer.high_level import extract_text\n",
    "import re\n",
    "import unicodedata\n",
    "import os\n",
    "from typing import Dict, Optional, List\n"
   ]
  },
  {
   "cell_type": "markdown",
   "id": "abd3a686",
   "metadata": {},
   "source": [
    "### Funcoes"
   ]
  },
  {
   "cell_type": "code",
   "execution_count": null,
   "id": "4239fb84",
   "metadata": {},
   "outputs": [],
   "source": [
    "def _p(texto: str) -> str:\n",
    "    \"\"\"\n",
    "    Padroniza texto:\n",
    "    deixa tudo minusculo,\n",
    "    remove acentuacao, pontos, multiplos espacos, linhas em branco\n",
    "    \"\"\"\n",
    "\n",
    "    texto = texto.lower().replace(\".\", \" \")\n",
    "\n",
    "    texto = re.sub(\n",
    "        r\"[ \\t]+\", \" \", texto\n",
    "    )  # troca multiplos espacos/tabs/quebras por 1 espaco\n",
    "    texto = re.sub(r\"\\n\\s*\\n\", \"\\n\", texto)  # remove linhas em branco\n",
    "    texto = texto.strip()\n",
    "\n",
    "    texto = \"\".join(\n",
    "        c\n",
    "        for c in unicodedata.normalize(\"NFD\", texto)\n",
    "        if unicodedata.category(c) != \"Mn\"\n",
    "    )\n",
    "\n",
    "    return texto\n",
    "\n",
    "\n",
    "def get_text(file_path: str) -> List[Dict[str, str]]:\n",
    "\n",
    "    return _p(extract_text(file_path))\n",
    "\n",
    "\n",
    "def is_simplificado(texto: str) -> bool:\n",
    "    \"\"\"\n",
    "    Avalia se o texto eh um relatorio simplificado (retorna True) ou nao (False)\n",
    "    \"\"\"\n",
    "    padrao = \"relatorio final simplificado\"\n",
    "    return re.search(padrao, texto[1300:1700], re.S) is not None\n",
    "\n",
    "\n",
    "def get_historico(texto: str):\n",
    "\n",
    "    padrao = r\"1\\s+1\\s+historico do voo(.*?)2\\s+analise \\(comentarios\\s*/\\s*pesquisas\\)\"\n",
    "    historico_text = re.search(padrao, texto, re.S)\n",
    "\n",
    "    return historico_text\n",
    "\n",
    "\n",
    "def get_labels(texto: str, simplificado: bool) -> Dict[str, str]:\n",
    "    \"\"\"\n",
    "    TODO:\n",
    "    - levantar erro caso divida errado o label\n",
    "    - extrair label de relatorio completo\n",
    "    - documentacao\n",
    "    \"\"\"\n",
    "\n",
    "    labels_dict = {}\n",
    "\n",
    "    if simplificado:\n",
    "        padrao = r\"3 2 fatores contribuintes(.*?)4 recomendacoes de seguranca\"\n",
    "        labels_text = re.search(\n",
    "            padrao, texto, re.S\n",
    "        )  # Apenas o pedaco do texto do item 3.2\n",
    "\n",
    "        if labels_text:\n",
    "\n",
    "            linhas = [\n",
    "                l.strip(\" -;\\n\") for l in labels_text.group(1).splitlines() if l.strip()\n",
    "            ]\n",
    "            for l in linhas:\n",
    "                partes = re.split(r\"\\s[–-]\\s\", l, maxsplit=1)  # aceita – ou -\n",
    "                if len(partes) == 2:\n",
    "                    labels_dict[partes[0]] = partes[1][:1]\n",
    "                else:\n",
    "                    print(\"ERRO nao dividiu corretamente o label\")\n",
    "        else:\n",
    "            print(\"Trecho não encontrado\")\n",
    "    else:\n",
    "        print(\"Relatorio Completo: em desenvolvimento\")\n",
    "\n",
    "    return labels_dict\n"
   ]
  },
  {
   "cell_type": "markdown",
   "id": "ccca96be",
   "metadata": {},
   "source": [
    "### Area de trabalho"
   ]
  },
  {
   "cell_type": "code",
   "execution_count": null,
   "id": "1ffa674f",
   "metadata": {},
   "outputs": [],
   "source": [
    "\n"
   ]
  },
  {
   "cell_type": "markdown",
   "id": "eea8164d",
   "metadata": {},
   "source": [
    "### Main function"
   ]
  },
  {
   "cell_type": "code",
   "execution_count": null,
   "id": "896b1458",
   "metadata": {},
   "outputs": [],
   "source": [
    "def main(folder_path: str, file_name: Optional[str] = None):\n",
    "    \"\"\"\n",
    "    Se nao tiver file_name pega todos os arquivos da folder_path\n",
    "    \"\"\"\n",
    "    if file_name:\n",
    "        files_names = [file_name]\n",
    "    else:\n",
    "        files_names = os.listdir(folder_path)\n",
    "    \n",
    "    resumo = {}\n",
    "    for i, name in enumerate(files_names, start=1):\n",
    "        new_file = {}\n",
    "\n",
    "        text_araw = get_text(f\"{folder_path}/{name}\")\n",
    "        simplificado = is_simplificado(text_araw)\n",
    "\n",
    "        # print(text_araw)\n",
    "\n",
    "        historico = get_historico(text_araw)\n",
    "        \n",
    "        labels = get_labels(text_araw, simplificado)\n",
    "        new_file[\"labels\"] = labels\n",
    "\n",
    "        resumo[f\"relatorio_{i}\"] = (name, \"completo/simplificado\")  # ATENCAO\n",
    "\n",
    "        display(\"new_file:\", new_file)\n",
    "        display(\"resumo:\", resumo)\n",
    "\n",
    "    return new_file  # ATENCAO, so retorna o ultimo\n",
    "\n",
    "\n",
    "\n",
    "main(\"files\", \"PR-KNM_16_08_2023_PUB.pdf\")\n"
   ]
  },
  {
   "cell_type": "markdown",
   "id": "f9d06243",
   "metadata": {},
   "source": [
    "### Rascunhos"
   ]
  },
  {
   "cell_type": "code",
   "execution_count": null,
   "id": "d89c6536",
   "metadata": {},
   "outputs": [],
   "source": [
    "new_file = {\n",
    "    \"textos\": {\n",
    "        \"historico\": \"...\",\n",
    "        \"analise\": \"...\",\n",
    "        \"fatos\":\"...\",\n",
    "        },\n",
    "    \"labels\": {\n",
    "        \"fator a\": \"c\",\n",
    "        \"fator b\": \"i\",\n",
    "        \"fator c\": \"c\",\n",
    "        }\n",
    "}"
   ]
  }
 ],
 "metadata": {
  "kernelspec": {
   "display_name": ".venv",
   "language": "python",
   "name": "python3"
  },
  "language_info": {
   "codemirror_mode": {
    "name": "ipython",
    "version": 3
   },
   "file_extension": ".py",
   "mimetype": "text/x-python",
   "name": "python",
   "nbconvert_exporter": "python",
   "pygments_lexer": "ipython3",
   "version": "3.11.8"
  }
 },
 "nbformat": 4,
 "nbformat_minor": 5
}
